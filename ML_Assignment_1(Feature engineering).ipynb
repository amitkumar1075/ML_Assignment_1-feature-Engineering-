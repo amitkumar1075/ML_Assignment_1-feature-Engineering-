{
 "cells": [
  {
   "cell_type": "markdown",
   "id": "00eb96bd-5411-45d2-8a60-42784a34719e",
   "metadata": {},
   "source": [
    "**Questions Answers**"
   ]
  },
  {
   "cell_type": "code",
   "execution_count": 5,
   "id": "ebde3d2e-4b56-4a4a-855a-f1693392a46f",
   "metadata": {},
   "outputs": [],
   "source": [
    "#1. What is a parameter?\n",
    "\n",
    "#ans.>>A parameter in Machine Learning is a variable that the model learns from the training data. \n",
    "#      in linear regression, the slope (m) and intercept (b) in y = mx + b are parameters."
   ]
  },
  {
   "cell_type": "code",
   "execution_count": 11,
   "id": "58e7763d-54e6-4c24-9a66-ef977137c621",
   "metadata": {},
   "outputs": [],
   "source": [
    "#2. What is correlation?\n",
    "\n",
    "#ans.>>Correlation measures the strength and direction of a linear relationship between two variables.It ranges from -1 to +1\n",
    "\n",
    "#2a. What does negative correlation mean?\n",
    "\n",
    "#ans.>>A negative correlation means that as one variable increases, the other decreases.\n",
    "#     example :- increase in hours of watching TV , decrease in exam score"
   ]
  },
  {
   "cell_type": "code",
   "execution_count": 15,
   "id": "b19bceca-ccbf-4ad4-9b18-bb6d95ea35d5",
   "metadata": {},
   "outputs": [],
   "source": [
    "#3. Define Machine Learning. What are the main components in Machine Learning?\n",
    "\n",
    "#ans.>> Machine Learning:- machine learn pattern from the data and replicate the same in future,make decisions/predictions without being explicitly programmed.\n",
    "#       these  are the main components in Machine Learning:-\n",
    "#          1.Data\n",
    "#          2.Features (inputs) and labels (outputs)\n",
    "#          3.Model\n",
    "#          4.Loss function\n",
    "#          5.Optimizer\n",
    "#          6.Training process\n",
    "#          7.Evaluation metrics"
   ]
  },
  {
   "cell_type": "code",
   "execution_count": 17,
   "id": "98d0c918-1883-448b-868d-92b78e0ec366",
   "metadata": {},
   "outputs": [],
   "source": [
    "#4. How does loss value help in determining whether the model is good or not?\n",
    "\n",
    "#ans.>>The loss value indicates how far the model's predictions are from the actual values. A lower loss means a better-performing model."
   ]
  },
  {
   "cell_type": "code",
   "execution_count": 21,
   "id": "bd0e8d85-08d1-4fab-ba39-401e9b2a618d",
   "metadata": {},
   "outputs": [],
   "source": [
    "#5. What are continuous and categorical variables?\n",
    "\n",
    "#ans.>>Continuous(regression): Numerical values that can be measured (e.g.,price of house).\n",
    "#      Categorical(classification): Values that represent categories (e.g., pass/fail)."
   ]
  },
  {
   "cell_type": "code",
   "execution_count": 25,
   "id": "aa939bcc-17b5-41a9-a13f-4a5a1c201e86",
   "metadata": {},
   "outputs": [],
   "source": [
    "#6. How do we handle categorical variables in ML? Common techniques?\n",
    "\n",
    "#ans.>> data encoding convert the categorical data to numerical data\n",
    "#       to handle categorical variable in ML we  commonly use two types of Data encoding :-\n",
    "#         1.nominal(onehotencoding) :- (Red, Blue >> [1, 0], [0, 1])\n",
    "#         2.Label encoding :-  (Male >> 1, Female >> 0)"
   ]
  },
  {
   "cell_type": "code",
   "execution_count": 27,
   "id": "d2a9af1f-2991-4907-9df1-969c08fe0a1d",
   "metadata": {},
   "outputs": [],
   "source": [
    "#7. What do you mean by training and testing a dataset?\n",
    "\n",
    "#ans.>>Training set: Used to teach the model with some data \n",
    "#      Testing set: Used to evaluate the model's performance with new data which are unknown to the model"
   ]
  },
  {
   "cell_type": "code",
   "execution_count": 29,
   "id": "793cfc1c-eed0-4daa-8c61-d4263d9b8779",
   "metadata": {},
   "outputs": [],
   "source": [
    "#8. What is sklearn.preprocessing?\n",
    "\n",
    "#ans.>>It’s a module in scikit-learn for preprocessing data, including (Encoding, Scaling, Normalization, Binarization)"
   ]
  },
  {
   "cell_type": "code",
   "execution_count": 31,
   "id": "4cc90535-ffa2-4a88-a982-25cc2ad14ad3",
   "metadata": {},
   "outputs": [],
   "source": [
    "#9. What is a test set?\n",
    "\n",
    "#ans.>> test set is set of data(unseen data) which is Used to evaluate the model's performance with new data which are unknown to the model"
   ]
  },
  {
   "cell_type": "code",
   "execution_count": null,
   "id": "231a99b2-37aa-45dd-a469-724a2fba0409",
   "metadata": {},
   "outputs": [],
   "source": [
    "#10.  How do we split data for training and testing in Python?\n",
    "\n",
    "#ans.>> we split data for training and testing in Python :-\n",
    "#       by Using  module \"train_test_split from sklearn.model_selection\"\n",
    "\n",
    "#10a. How do you approach a Machine Learning problem?\n",
    "\n",
    "#ans.>> we approach a Machine Learning problem :-\n",
    "#         1.Understand the problem\n",
    "#         2.Collect and clean data\n",
    "#         3.Perform EDA (Exploratory Data Analysis)\n",
    "#         4.Feature engineering\n",
    "#         5.Select a model\n",
    "#         6.Train the model\n",
    "#         7.Evaluate the model\n",
    "#         8.Tune hyperparameters\n",
    "#         9.Deploy and monitor"
   ]
  },
  {
   "cell_type": "code",
   "execution_count": 33,
   "id": "7ef00dd3-2787-4373-b9ca-e33a08e51443",
   "metadata": {},
   "outputs": [],
   "source": [
    "#11. Why do we perform EDA before model fitting?\n",
    "\n",
    "#ans.>>we perform EDA before model fitting because EDA helps in :-\n",
    "#         1.Understand data distribution\n",
    "#         2.Detect missing/outlier values\n",
    "#         3.Discover patterns\n",
    "#         4.Inform feature engineering"
   ]
  },
  {
   "cell_type": "code",
   "execution_count": 35,
   "id": "b260fb22-e39f-46ea-93d4-1d546a2b752d",
   "metadata": {},
   "outputs": [],
   "source": [
    "#12. What is correlation? \n",
    "\n",
    "#ans.>>#ans.>>Correlation measures the strength and direction of a linear relationship between two variables.It ranges from -1 to +1\n",
    "#(same as question no. 2)"
   ]
  },
  {
   "cell_type": "code",
   "execution_count": 37,
   "id": "7b11913b-3a37-47fa-8426-ee8d27b4fe34",
   "metadata": {},
   "outputs": [],
   "source": [
    "#13. What does negative correlation mean?\n",
    "\n",
    "#ans.>>A negative correlation means that as one variable increases, the other decreases.\n",
    "#     example :- increase in hours of watching TV , decrease in exam score\n",
    "#(same as question no. 2a)"
   ]
  },
  {
   "cell_type": "code",
   "execution_count": 39,
   "id": "f1885dc6-1dcf-4820-8595-a45da08737f8",
   "metadata": {},
   "outputs": [],
   "source": [
    "#14. How can you find correlation in Python?\n",
    "\n",
    "#ans.>> df.corr() using this code we find the correlation "
   ]
  },
  {
   "cell_type": "code",
   "execution_count": 41,
   "id": "11ebeca3-ea5f-4e13-94cc-08526da8eaf0",
   "metadata": {},
   "outputs": [],
   "source": [
    "#15. What is causation? Explain difference between correlation and causation with an example.\n",
    "\n",
    "#ans.>> causation :- it means when one variable directly affects the another variable is called causation\n",
    "\n",
    "#          difference between  correlation and causation :-\n",
    "#            correlation:-Correlation measures the strength and direction of a linear relationship between two variable\n",
    "#                  example :- sales of AC and ice-cream increase together due to summers\n",
    "\n",
    "#            causation:-it means when one variable directly affects the another variable is called causation\n",
    "#                   example:- incerase in price of petrol lead to decrease the sales of petrol vehicles"
   ]
  },
  {
   "cell_type": "code",
   "execution_count": 45,
   "id": "1d06a46f-eff8-4444-b9c1-5004b8c31ada",
   "metadata": {},
   "outputs": [],
   "source": [
    "#16. What is an Optimizer? What are different types of optimizers? Explain each with an example.\n",
    "\n",
    "#ans.>>An optimizer adjusts model parameters to minimize loss during training.\n",
    "#   these are the Types of Optimizers:\n",
    "#     1.SGD (Stochastic Gradient Descent) – Basic optimizer.\n",
    "#         (eg. blindfolded person trying to find the lowest point in a valley by taking small steps downhill based on the slope under their feet.)\n",
    "\n",
    "#     2.Adam – Adaptive optimizer, widely used.\n",
    "#         (eg. a hiker who remembers both the direction they’ve been moving (momentum) and how rough the terrain is (adaptive learning rate) and adjusts their step size accordingly.)\n",
    "\n",
    "#     3.RMSprop – Good for RNNs.\n",
    "#         (eg. biker adjusting their speed depending on how bumpy or smooth the path has recently been. If the path is rough, they slow down to avoid crashing.)\n",
    "\n",
    "#     4.Adagrad – Handles sparse data.\n",
    "#         (eg. a student who focuses more on the subjects they’re weak in and spends less time on the ones they’ve already mastered.)"
   ]
  },
  {
   "cell_type": "code",
   "execution_count": 47,
   "id": "3e6181f6-2774-4408-8a87-9d32da4ede21",
   "metadata": {},
   "outputs": [],
   "source": [
    "#17. What is sklearn.linear_model ?\n",
    "\n",
    "#ans.>>A module in scikit-learn for implementing linear models like LinearRegression, LogisticRegression."
   ]
  },
  {
   "cell_type": "code",
   "execution_count": 49,
   "id": "91b10120-d1a2-4ac9-a623-5ea37de370fd",
   "metadata": {},
   "outputs": [],
   "source": [
    "#18.What does model.fit() do? What arguments must be given?\n",
    "\n",
    "#ans.>>Trains the model on training data:- model.fit(X_train, y_train)\n",
    "\n",
    "# these are the arguments which must given to model.fit()  :-\n",
    "#        X_train (features)\n",
    "#        y_train (labels)"
   ]
  },
  {
   "cell_type": "code",
   "execution_count": 59,
   "id": "e85e8a8d-d9cb-4ac9-8937-8c519920229c",
   "metadata": {},
   "outputs": [],
   "source": [
    "#19. What does model.predict() do? What arguments must be given?\n",
    "\n",
    "#ans.>>Generates predictions:- model.predict(X_test)\n",
    "\n",
    "# these are the arguments which must be given to model.predict()\n",
    " #      X_test (input features)"
   ]
  },
  {
   "cell_type": "code",
   "execution_count": 53,
   "id": "b925f6c6-2efb-4c47-8d02-05d7043b2330",
   "metadata": {},
   "outputs": [],
   "source": [
    "#20. What are continuous and categorical variables?\n",
    "\n",
    "#ans.>>Continuous(regression): Numerical values that can be measured (e.g.,price of house).\n",
    "#      Categorical(classification): Values that represent categories (e.g., pass/fail).\n",
    "#(same as question no. 5)"
   ]
  },
  {
   "cell_type": "code",
   "execution_count": 55,
   "id": "5db80842-f2d8-4d09-a07d-8473e0209102",
   "metadata": {},
   "outputs": [],
   "source": [
    "#21. What is feature scaling? How does it help in Machine Learning?\n",
    "\n",
    "#ans.>> feature scaling tries to bring all the features on the same scale\n",
    "#     it helps in machine learning :-\n",
    "#         Prevents features with large values from dominating. Ensures faster convergence and better accuracy."
   ]
  },
  {
   "cell_type": "code",
   "execution_count": 63,
   "id": "9437dbdb-21c2-4e5c-b9cc-06755f0139d8",
   "metadata": {},
   "outputs": [
    {
     "data": {
      "text/plain": [
       "'\\nfrom sklearn.preprocessing import StandardScaler\\nscaler = StandardScaler()\\nX_scaled = scaler.fit_transform(X)\\n'"
      ]
     },
     "execution_count": 63,
     "metadata": {},
     "output_type": "execute_result"
    }
   ],
   "source": [
    "#22. How do we perform scaling in Python?\n",
    "\n",
    "#ans.>>\n",
    "'''\n",
    "from sklearn.preprocessing import StandardScaler\n",
    "scaler = StandardScaler()\n",
    "X_scaled = scaler.fit_transform(X)\n",
    "'''"
   ]
  },
  {
   "cell_type": "code",
   "execution_count": 65,
   "id": "b8cf7d3a-a61a-4f82-80f9-27ed63e31996",
   "metadata": {},
   "outputs": [],
   "source": [
    "#23. What is sklearn.preprocessing?\n",
    "\n",
    "#ans.>>It’s a module in scikit-learn for preprocessing data, including (Encoding, Scaling, Normalization, Binarization)"
   ]
  },
  {
   "cell_type": "code",
   "execution_count": 67,
   "id": "dcfc54eb-793b-4c16-ab1f-637368b46fc5",
   "metadata": {},
   "outputs": [],
   "source": [
    "#24. How do we split data for model fitting (training and testing) in Python?\n",
    "\n",
    "#ans.>> we split data for training and testing in Python :-\n",
    "#       by Using  module \"train_test_split from sklearn.model_selection\""
   ]
  },
  {
   "cell_type": "code",
   "execution_count": 69,
   "id": "5dad261a-d3b6-4fba-914c-e9d5ed7f9bbc",
   "metadata": {},
   "outputs": [],
   "source": [
    "#25. Explain data encoding?\n",
    "\n",
    "#ans.>> data encoding convert the categorical data to numerical data\n",
    "#       to handle categorical variable in ML we  commonly use two types of Data encoding :-\n",
    "#         1.nominal(onehotencoding) :- (Red, Blue >> [1, 0], [0, 1])\n",
    "#         2.Label encoding :-  (Male >> 1, Female >> 0)"
   ]
  },
  {
   "cell_type": "code",
   "execution_count": null,
   "id": "7f0cece9-1342-4e25-bb9a-99af9620cbaa",
   "metadata": {},
   "outputs": [],
   "source": []
  }
 ],
 "metadata": {
  "kernelspec": {
   "display_name": "Python [conda env:base] *",
   "language": "python",
   "name": "conda-base-py"
  },
  "language_info": {
   "codemirror_mode": {
    "name": "ipython",
    "version": 3
   },
   "file_extension": ".py",
   "mimetype": "text/x-python",
   "name": "python",
   "nbconvert_exporter": "python",
   "pygments_lexer": "ipython3",
   "version": "3.12.7"
  }
 },
 "nbformat": 4,
 "nbformat_minor": 5
}
